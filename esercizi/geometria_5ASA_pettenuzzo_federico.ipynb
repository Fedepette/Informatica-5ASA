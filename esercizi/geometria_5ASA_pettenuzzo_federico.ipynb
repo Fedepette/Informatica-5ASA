{
  "cells": [
    {
      "cell_type": "markdown",
      "metadata": {
        "id": "HB3XbPDcSqe1"
      },
      "source": [
        "# Esercizi Geometrici"
      ]
    },
    {
      "cell_type": "markdown",
      "metadata": {
        "id": "LCcywn6v2KxD"
      },
      "source": [
        "In Python per stampare consecutivamente più parole senza creare una riga per ognuna bisogna usare il seguente codice:\n"
      ]
    },
    {
      "cell_type": "code",
      "execution_count": 1,
      "metadata": {
        "colab": {
          "base_uri": "https://localhost:8080/"
        },
        "id": "PHdyo8E42sza",
        "outputId": "fb51a75d-54ef-48c3-f6ad-342834d2738b"
      },
      "outputs": [
        {
          "name": "stdout",
          "output_type": "stream",
          "text": [
            "Parola 1 Parola 2.\n",
            "Parola 3\n"
          ]
        }
      ],
      "source": [
        "print(\"Parola 1\", end=\" \")\n",
        "print(\"Parola 2\", end=\".\\n\")\n",
        "print(\"Parola 3\")"
      ]
    },
    {
      "cell_type": "code",
      "execution_count": null,
      "metadata": {
        "colab": {
          "base_uri": "https://localhost:8080/"
        },
        "id": "0U7L9A29RfeT",
        "outputId": "ccdd9b72-55df-486a-a68d-cfe73e90461d"
      },
      "outputs": [],
      "source": [
        "# Es 6.1: Scrivi la funzione quadrato(n) che stampi a schermo un quadrato di lato nxn formato utilizzando il carattere *\n",
        "#         Esempio:    3 ->  * * *       4 ->  * * * *\n",
        "#                           * * *             * * * *\n",
        "#                           * * *             * * * *\n",
        "#                                             * * * *\n",
        "def quadrato(n):\n",
        "    for i in range(n):\n",
        "        #stampo gli asterischi per n volte e alla prossima iterazione visto che va a capo in automatico rifaccio la stessa roba fino a che i non esce dal range(n)\n",
        "        print(\"* \" * n)\n",
        "\n",
        "n = abs(int(input()))\n",
        "quadrato(n)"
      ]
    },
    {
      "cell_type": "code",
      "execution_count": null,
      "metadata": {
        "id": "gE3RVr9ORuwP"
      },
      "outputs": [],
      "source": [
        "# Es 6.2: Scrivi la funzione rettangolo(n) che stampi a schermo un rettangolo di lato nx2n formato utilizzando il carattere *\n",
        "#         Esempio:    3 ->  * * * * * *         4 ->  * * * * * * * *\n",
        "#                           * * * * * *               * * * * * * * *\n",
        "#                           * * * * * *               * * * * * * * *\n",
        "#                                                     * * * * * * * *\n",
        "\n",
        "def rettangolo(n):\n",
        "    for i in range(n):\n",
        "        #stampo gli asterischi per 2n volte e alla prossima iterazione visto che va a capo in automatico rifaccio la stessa roba fino a che i non esce dal range(n)\n",
        "        print(\"* \"*2*n)\n",
        "\n",
        "n = abs(int(input()))\n",
        "rettangolo(n)"
      ]
    },
    {
      "cell_type": "code",
      "execution_count": null,
      "metadata": {
        "id": "r1A_DavcSKgi"
      },
      "outputs": [],
      "source": [
        "# Es 6.3: Scrivi la funzione triangolo_rettangolo(n) che stampi a schermo un triangolo di cateti n e n formato utilizzando il carattere *\n",
        "#         Esempio:    3 ->  *           4 ->  *\n",
        "#                           * *               * *\n",
        "#                           * * *             * * *\n",
        "#                                             * * * *\n",
        "def triangolo_rettangolo(n):\n",
        "    #metto n+1 perchè uso l'indice per moltiplicare gli asterischi quindi es con n=2\n",
        "    #riga 1 * per i(0)\n",
        "    #riga 2 * per i(1) se lasciavo n uscivo dal for senza stampare l'ultima linea\n",
        "    #riga 3 * per i(2)\n",
        "    \n",
        "    for i in range(n+1):\n",
        "        print(\"* \"*i)\n",
        "\n",
        "n = abs(int(input()))\n",
        "triangolo_rettangolo(n)"
      ]
    },
    {
      "cell_type": "code",
      "execution_count": null,
      "metadata": {
        "id": "iA9D4X_GSims"
      },
      "outputs": [],
      "source": [
        "# Es 6.4: Scrivi la funzione bordo_quadrato(n) che stampi a schermo un quadrato di lato nxn formato utilizzando il carattere * come contorno\n",
        "#         Esempio:    3 ->  * * *       4 ->  * * * *\n",
        "#                           *   *             *     *\n",
        "#                           * * *             *     *\n",
        "#                                             * * * *\n",
        "def bordo_quadrato(n):\n",
        "    for i in range (n):\n",
        "        if(i == 0 or i == n-1):\n",
        "            print(\"* \"*n)\n",
        "        else:\n",
        "            #vedi successione per parametro 2n-3 3-3, 4-5, 5-7\n",
        "            print(\"*\" + \" \"*(2*n-3) + \"*\")\n",
        "\n",
        "n = abs(int(input()))\n",
        "bordo_quadrato(n)"
      ]
    },
    {
      "cell_type": "code",
      "execution_count": null,
      "metadata": {
        "colab": {
          "base_uri": "https://localhost:8080/"
        },
        "id": "1vlDMqo_4uNc",
        "outputId": "de4cc1b2-7110-4ad6-b86c-d67c5756c074"
      },
      "outputs": [],
      "source": [
        "# Es 6.5: Scrivi la funzione bordo_quadrato_bello(n) che stampi a schermo un quadrato di lato nxn formato utilizzando iseguenti caratteri:\n",
        "#         Esempio:    3 ->  / - \\       4 ->  / - - \\\n",
        "#                           |   |             |     |\n",
        "#                           \\ - /             |     |\n",
        "#                                             \\ - - /\n",
        "# Per stampare \\ dovete utilizzare \"\\\\\" ovvero print(\"\\\\\")\n",
        "\n",
        "def bordo_quadrato_bello(n):\n",
        "    #stampo la prima riga fuori dal ciclo perchè diversa dall'ultima\n",
        "    print(\"/\" + \" -\"*(n-2) + \" \\\\\")\n",
        "    #di conseguenza il range sarà n-1 visto che una riga l'ho già stampata\n",
        "    for i in range (n-1):\n",
        "        #di conseguenza il range sarà n-1 visto che una riga l'ho già stampata\n",
        "        if(i == n-2):\n",
        "            print(\"\\\\\" + \" -\"*(n-2) + \" /\")\n",
        "        else:\n",
        "            #vedi successione per parametro 2n-3 3-3, 4-5, 5-7\n",
        "            print(\"|\" + \" \"*(2*n-3) + \"|\")\n",
        "\n",
        "n = abs(int(input()))\n",
        "bordo_quadrato_bello(n)"
      ]
    },
    {
      "cell_type": "code",
      "execution_count": null,
      "metadata": {
        "id": "2E9Hk9kkv5Mx"
      },
      "outputs": [],
      "source": [
        "# Es 6.6: Scrivi la funzione trianglo_bello(n) che stampi a schermo un triangolo di cateti n e n formato utilizzando iseguenti caratteri:\n",
        "#.   ^\\\n",
        "#    | \\\n",
        "#.   |  \\\n",
        "#.   |___\\\n",
        "\n",
        "def trianglo_bello(n):\n",
        "#stampo la prima riga fuori dal ciclo perchè diversa dall'ultima\n",
        "    print(\"^\" +\"\\\\\")\n",
        "    #di conseguenza il range sarà n-1 visto che una riga l'ho già stampata\n",
        "    for i in range (n-1):\n",
        "        #di conseguenza il range sarà n-1 visto che una riga l'ho già stampata\n",
        "        if(i == n-2):\n",
        "            print(\"|\" + \"_\"*(n-1) + \"\\\\\")\n",
        "        else:\n",
        "            #vedi corrispondenza spazi-indice 1-0 2-1\n",
        "            print(\"|\" + \" \"*(i+1) + \"\\\\\")\n",
        "\n",
        "n = abs(int(input()))\n",
        "trianglo_bello(n)\n"
      ]
    }
  ],
  "metadata": {
    "colab": {
      "provenance": []
    },
    "kernelspec": {
      "display_name": "Python 3",
      "name": "python3"
    },
    "language_info": {
      "codemirror_mode": {
        "name": "ipython",
        "version": 3
      },
      "file_extension": ".py",
      "mimetype": "text/x-python",
      "name": "python",
      "nbconvert_exporter": "python",
      "pygments_lexer": "ipython3",
      "version": "3.10.8"
    }
  },
  "nbformat": 4,
  "nbformat_minor": 0
}
