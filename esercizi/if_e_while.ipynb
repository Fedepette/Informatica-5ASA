{
  "cells": [
    {
      "cell_type": "markdown",
      "metadata": {
        "id": "HB3XbPDcSqe1"
      },
      "source": [
        "# Esercizi IF"
      ]
    },
    {
      "cell_type": "code",
      "execution_count": 6,
      "metadata": {
        "id": "0U7L9A29RfeT"
      },
      "outputs": [
        {
          "name": "stdout",
          "output_type": "stream",
          "text": [
            "Dispari\n"
          ]
        }
      ],
      "source": [
        "# Es 4.1: Ottenere dall'utente un numero in input e scrivere a schermo \"Pari\" se il numero è pari, scrivere \"Dispari\" altrimenti\n",
        "x = int(input())   \n",
        "if (x%2 == 0):\n",
        "    print(\"Pari\")\n",
        "else:\n",
        "    print(\"Dispari\") \n"
      ]
    },
    {
      "cell_type": "code",
      "execution_count": 8,
      "metadata": {
        "id": "gE3RVr9ORuwP"
      },
      "outputs": [
        {
          "name": "stdout",
          "output_type": "stream",
          "text": [
            "il triangolo si\n"
          ]
        }
      ],
      "source": [
        "# Es 4.2: Ottenere dall'utente tre angoli caso siano i tre angoli di un triangolo scrivere a schermo \"È un triangolo\", altrimenti \"Non è un triangolo\n",
        "x = float(input())\n",
        "y = float(input())\n",
        "z = float(input())\n",
        "\n",
        "if((x+y+z) == 180 and x>0 and y>0 and z>0):\n",
        "    print(\"il triangolo si\")\n",
        "else:\n",
        "    print(\"il triangolo no\")\n"
      ]
    },
    {
      "cell_type": "code",
      "execution_count": 9,
      "metadata": {
        "id": "r1A_DavcSKgi"
      },
      "outputs": [
        {
          "name": "stdout",
          "output_type": "stream",
          "text": [
            "il triangolo è rettangolo\n"
          ]
        }
      ],
      "source": [
        "# Es 4.3: Ottenuti dall'utente tre angoli di un tringolo scrivere a schermo se i tre angoli descrivono un triangolo rettangolo o no\n",
        "x = float(input())\n",
        "y = float(input())\n",
        "z = float(input())\n",
        "\n",
        "if((x+y+z) == 180 and x>0 and y>0 and z>0):\n",
        "    if(x == 90 or y == 90 or z == 90):\n",
        "        print(\"il triangolo è rettangolo\")\n",
        "    else:\n",
        "        print(\"il triangolo esiste ma non è rettangolo\")\n",
        "else:\n",
        "    print(\"il triangolo non esiste\")"
      ]
    },
    {
      "cell_type": "code",
      "execution_count": 11,
      "metadata": {
        "id": "iA9D4X_GSims"
      },
      "outputs": [
        {
          "name": "stdout",
          "output_type": "stream",
          "text": [
            "il triangolo esiste\n"
          ]
        }
      ],
      "source": [
        "# Es 4.4: Ottenuti dall'utente tre angoli di un tringolo scrivere a schermo se i tre angoli descrivono un triangolo equilatero o no\n",
        "x = float(input())\n",
        "y = float(input())\n",
        "z = float(input())\n",
        "if((x+y+z) == 180 and x>0 and y>0 and z>0):\n",
        "    print(\"il triangolo esiste\")\n",
        "    if(x == 60 and y == 60 and z == 60):\n",
        "        print(\"il triangolo è equilatero\")\n",
        "else:\n",
        "    print(\"il triangolo no\")"
      ]
    },
    {
      "cell_type": "code",
      "execution_count": 12,
      "metadata": {
        "id": "8q4gadoTSU7J"
      },
      "outputs": [
        {
          "name": "stdout",
          "output_type": "stream",
          "text": [
            "il triangolo esiste\n",
            "il triangolo è isoscele\n"
          ]
        }
      ],
      "source": [
        "# Es 4.5: Ottenuti dall'utente tre angoli di un tringolo scrivere a schermo se i tre angoli descrivono un triangolo isocele o no\n",
        "x = float(input())\n",
        "y = float(input())\n",
        "z = float(input())\n",
        "if((x+y+z) == 180 and x>0 and y>0 and z>0):\n",
        "    print(\"il triangolo esiste\")\n",
        "    if(x == y or y == z  or z == x):\n",
        "        print(\"il triangolo è isoscele\")\n",
        "else:\n",
        "    print(\"il triangolo no\")"
      ]
    },
    {
      "cell_type": "code",
      "execution_count": 1,
      "metadata": {
        "id": "yVIE2kK3SYlq"
      },
      "outputs": [
        {
          "name": "stdout",
          "output_type": "stream",
          "text": [
            "il triangolo esiste\n",
            "il triangolo è isoscele\n",
            "il triangolo è equilatero\n"
          ]
        }
      ],
      "source": [
        "# Es 4.6: Ottenuti dall'utente tre angoli di un tringolo scrivere a schermo se i tre angoli descrivono un triangolo isocele, rettagolo, equilatero o scaleno\n",
        "x = float(input())\n",
        "y = float(input())\n",
        "z = float(input())\n",
        "if((x+y+z) == 180 and x>0 and y>0 and z>0):\n",
        "    print(\"il triangolo esiste\")\n",
        "    if(x == y or y == z  or z == x):\n",
        "        print(\"il triangolo è isoscele\")\n",
        "        if(x == y and y == z):\n",
        "            print(\"il triangolo è equilatero\")\n",
        "    else:\n",
        "        print(\"il triangolo è scaleno\")\n",
        "    if(x == 90 or y == 90 or z == 90):\n",
        "            print(\"il triangolo è rettangolo\")\n",
        "else:\n",
        "    print(\"il triangolo non esiste\")"
      ]
    },
    {
      "cell_type": "markdown",
      "metadata": {
        "id": "ef5snVxLqeQh"
      },
      "source": [
        "# Esercizi WHILE\n"
      ]
    },
    {
      "cell_type": "code",
      "execution_count": null,
      "metadata": {
        "id": "j61RqiHxqdmh"
      },
      "outputs": [],
      "source": [
        "# Es 4.7: Creare una funzione print_n(n,v) che stampi n volte il. contenuto di v\n",
        "def print_n(n, v):\n",
        "    for(i =0, i<n, i++)         "
      ]
    },
    {
      "cell_type": "code",
      "execution_count": null,
      "metadata": {
        "colab": {
          "base_uri": "https://localhost:8080/"
        },
        "id": "-6lAm-hfq9w9",
        "outputId": "399e82ba-3cfe-475f-f8df-0e156677ec75"
      },
      "outputs": [],
      "source": [
        "# Es 4.8: Inserito il numero n dire per quali numeri, compresi tra 1 e n, è divisibile.\n",
        "# Inserisco 10: stampo 1,2,5\n",
        "# Inserisco 7: stampo 1\n"
      ]
    },
    {
      "cell_type": "code",
      "execution_count": null,
      "metadata": {
        "colab": {
          "base_uri": "https://localhost:8080/"
        },
        "id": "GjC4LdR7rP-b",
        "outputId": "9f539b4d-c307-479a-da13-610a7e1cc46e"
      },
      "outputs": [],
      "source": [
        "# Es 4.9: Inserito il numero n dire se è primo o no\n"
      ]
    },
    {
      "cell_type": "code",
      "execution_count": null,
      "metadata": {
        "colab": {
          "base_uri": "https://localhost:8080/"
        },
        "id": "CxtWnOdHsTv4",
        "outputId": "5d874410-cb07-46a2-9c22-83d541b7a91a"
      },
      "outputs": [],
      "source": [
        "# Es 4.10: Creare la funzione moltiplica che restituisce il prodotto tra due numeri senza utilizzare *\n",
        "# 3*4 è uguale a 4+4+4\n"
      ]
    }
  ],
  "metadata": {
    "colab": {
      "provenance": []
    },
    "kernelspec": {
      "display_name": "Python 3",
      "name": "python3"
    },
    "language_info": {
      "codemirror_mode": {
        "name": "ipython",
        "version": 3
      },
      "file_extension": ".py",
      "mimetype": "text/x-python",
      "name": "python",
      "nbconvert_exporter": "python",
      "pygments_lexer": "ipython3",
      "version": "3.10.8"
    }
  },
  "nbformat": 4,
  "nbformat_minor": 0
}
