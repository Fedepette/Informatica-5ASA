{
  "cells": [
    {
      "cell_type": "code",
      "execution_count": null,
      "metadata": {
        "id": "dEWxmkWc48Lz"
      },
      "outputs": [],
      "source": [
        "# Es 8.1 Creare il gioco dell'impiccato\n",
        "# Suggerimento: per controllare se la lettera 'a' è presente all'interno della parola 'casa' si può usare:\n",
        "#\n",
        "# if 'a' in 'casa':\n",
        "#   print('Presente')\n",
        "\n",
        "def gioco_impiccato(parola_da_indovinare):\n",
        "    lunghezza_parola = len(parola_da_indovinare)\n",
        "    lettere_indovinate = ['_'] * lunghezza_parola\n",
        "    tentativi_rimasti = 6\n",
        "    lettere_giuste = []\n",
        "\n",
        "    print(\"Gioco dell'impiccato, o mi impicco io o ti impicchi te\")\n",
        "\n",
        "    while tentativi_rimasti > 0:\n",
        "        lettera = input(\"Indovina una lettera: \").lower()# serve per mettere tutte le lettere in stampatello piccolo\n",
        "\n",
        "        if len(lettera) != 1 or not lettera.isalpha():# serve per non considerare i numeri .isalpha\n",
        "            print(\"non sai giocare all'impiccato, devi inserire una sola lettera: \")\n",
        "            continue# mi skippa avanti l'istruzione\n",
        "\n",
        "        if lettera in lettere_giuste:\n",
        "            print(\"hai già indovinato questa lettera, sei sbadato\")\n",
        "            continue\n",
        "\n",
        "        if lettera in parola_da_indovinare:\n",
        "            print(\"finalmente hai indovinato una lettera\")\n",
        "            lettere_giuste.append(lettera)\n",
        "\n",
        "            for i in range(lunghezza_parola):\n",
        "                if parola_da_indovinare[i] == lettera:\n",
        "                    lettere_indovinate[i] = lettera\n",
        "\n",
        "            print(\" \".join(lettere_indovinate))\n",
        "\n",
        "            if '_' not in lettere_indovinate:\n",
        "                print(\"Bravo, hai avuto fortuna, la parola della serata è: \", parola_da_indovinare)\n",
        "                break\n",
        "        else:\n",
        "            tentativi_rimasti -= 1\n",
        "            print(\"Lettera non corretta. Tentativi rimasti: \"+ str(tentativi_rimasti))\n",
        "\n",
        "    if tentativi_rimasti == 0:\n",
        "        print(\"Hai esaurito tutti i tentativi, perfavore non piangere. La parola era:\", parola_da_indovinare)\n",
        "\n",
        "# Esempio di utilizzo\n",
        "parola_da_indovinare = \"casa\"\n",
        "gioco_impiccato(parola_da_indovinare)"
      ]
    }
  ],
  "metadata": {
    "colab": {
      "provenance": []
    },
    "kernelspec": {
      "display_name": "Python 3",
      "name": "python3"
    },
    "language_info": {
      "codemirror_mode": {
        "name": "ipython",
        "version": 3
      },
      "file_extension": ".py",
      "mimetype": "text/x-python",
      "name": "python",
      "nbconvert_exporter": "python",
      "pygments_lexer": "ipython3",
      "version": "3.10.8"
    }
  },
  "nbformat": 4,
  "nbformat_minor": 0
}
