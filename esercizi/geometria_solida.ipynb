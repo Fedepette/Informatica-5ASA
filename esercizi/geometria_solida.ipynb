{
  "cells": [
    {
      "cell_type": "markdown",
      "metadata": {
        "id": "inJF5uifNBg0"
      },
      "source": [
        "# Esercizi"
      ]
    },
    {
      "cell_type": "code",
      "execution_count": 3,
      "metadata": {
        "id": "EFiuNikwM8hY"
      },
      "outputs": [
        {
          "name": "stdout",
          "output_type": "stream",
          "text": [
            "        * - - - - - - *\n",
            "      / |           / |\n",
            "    /   |         /   |\n",
            "  /     |       /     |\n",
            "* - - - - - - *       |\n",
            "|       |     |       |\n",
            "|       |     |       |\n",
            "|       * - - | - - - *\n",
            "|     /       |     /\n",
            "|   /         |   /\n",
            "| /           | /\n",
            "* - - - - - - *\n"
          ]
        }
      ],
      "source": [
        "# Es 7.1: Scrivi la funzione cubo(n) che stampi a schermo un quadrato di lato nxn formato utilizzando il carattere *\n",
        "#         Esempio:                       8 ->        * - - - - - - *     2 ->   * *\n",
        "#                                                  / |           / |          * * *\n",
        "#                                                /   |         /   |          * *\n",
        "#                                              /     |       /     |\n",
        "#                                            * - - - - - - *       |\n",
        "#                                            |       |     |       |\n",
        "#                                            |       |     |       |\n",
        "#                                            |       * - - | - - - *\n",
        "#                                            |     /       |     /\n",
        "#                                            |   /         |   /\n",
        "#                                            | /           | /\n",
        "#                                            * - - - - - - *\n",
        "\n",
        "n = int(input(\"inserisci il lato del cubo: \"))\n",
        "n = abs(n)\n",
        "\n",
        "def cubo(n):\n",
        "    \n",
        "    if n == 0: \n",
        "        print(\"non esiste nessun cubo di lato 0, ignorante\")\n",
        "        \n",
        "    elif n == 1:\n",
        "        print(\"*\")\n",
        "        \n",
        "    elif n == 2:\n",
        "        print(\"  * *\")\n",
        "        print(\"* * *\")\n",
        "        print(\"* *\")\n",
        "        \n",
        "    else:\n",
        "        #stampo prima riga\n",
        "        print(\" \" * n + \"* \" + \"- \" * (n-2) + \"*\")\n",
        "        for i in range (3*n//2+1):\n",
        "            \n",
        "        # primo blocco\n",
        "            if i > 0 and i < n//2:\n",
        "                print(\" \" * (n-2*i) + \"/\" + \" \" * (2*i-1) + \"|\" + \" \" * (n-3) + \" \" * (n-2*i) + \"/\" + \" \" * (2*i-1) + \"|\")\n",
        "                \n",
        "        # seconda riga strana dall'alto\n",
        "            if i == n//2+1:\n",
        "                print(\"* \" + \"- \" * (n-2) + \"*\" + \" \" * (n-1) + \"|\")\n",
        "                \n",
        "        # linee solo dritte noiose \n",
        "            if i > n//2+1 and i < n: \n",
        "                print(\"|\" + \" \"*(n-1) + \"|\" + \" \" * (n-3) + \"|\" + \" \"*(n-2) + \" |\")\n",
        "                \n",
        "        # riga in mezzo anch'essa noiosa perchè da stampare solo una volta\n",
        "            if i == n + 1:\n",
        "                if n%2 == 0 :\n",
        "                    print(\"|\" + \" \" * (n-1) + \"* \" + \"- \" * (n//2-2) + \"|\" + \" -\" * (n//2-1) + \" *\")\n",
        "                else:\n",
        "                    print(\"|\" + \" \" * (n-1) + \"* \" + \"- \" * (n//2-2) + \"-|\" + \"- \" * (n//2) + \"*\")\n",
        "            if i > n + 1 and i < 3*n//2+1:\n",
        "                print(\"|\"  + \" \" * (n+1-2*(i-n)) + \"/\" + \" \" * (n-5+2*(i-n)) + \"|\" + \" \" * (n+1-(2*(i-n))) + \"/\")\n",
        "                \n",
        "        #stampo ultima riga\n",
        "        print(\"* \" + \"- \" * (n-2) + \"*\")\n",
        "\n",
        "#richiamo della funzione\n",
        "cubo(n)  "
      ]
    }
  ],
  "metadata": {
    "colab": {
      "provenance": []
    },
    "kernelspec": {
      "display_name": "Python 3",
      "name": "python3"
    },
    "language_info": {
      "codemirror_mode": {
        "name": "ipython",
        "version": 3
      },
      "file_extension": ".py",
      "mimetype": "text/x-python",
      "name": "python",
      "nbconvert_exporter": "python",
      "pygments_lexer": "ipython3",
      "version": "3.10.8"
    }
  },
  "nbformat": 4,
  "nbformat_minor": 0
}
